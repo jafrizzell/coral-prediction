{
 "cells": [
  {
   "cell_type": "markdown",
   "metadata": {},
   "source": [
    "## HW 8: Pattern Extraction & Why Algorithm Chosen (+ Parameter Tuning)\n",
    "### OCEN 460\n",
    "### Team: _/Sample_Text/\n",
    "### Members: Nate Baker and James Frizzell"
   ]
  },
  {
   "cell_type": "markdown",
   "metadata": {},
   "source": [
    "Overview:\n",
    "\n",
    "The purpose of this project is to use existing data on the growth of coral to predict whether coral can grow given oceanographic conditions. The latitude, longitude, depth, temperature, salinity, and dissolved oxygen levels are used to predict a binary value with 1 meaning that coral can grow and 0 meaning that coral cannot grow."
   ]
  },
  {
   "cell_type": "code",
   "execution_count": 1,
   "metadata": {},
   "outputs": [],
   "source": [
    "import tensorflow as tf\n",
    "import pandas as pd\n",
    "import numpy as np\n",
    "from tensorflow import keras\n",
    "from tensorflow.keras import layers\n",
    "import matplotlib.pyplot as plt\n",
    "import RegscorePy\n",
    "from math import sqrt, floor\n",
    "import os\n",
    "import pathlib\n",
    "from itertools import product\n",
    "from scipy.stats import pearsonr\n",
    "import time\n",
    "from sklearn.metrics import r2_score, mean_absolute_error, mean_squared_error\n",
    "%matplotlib inline"
   ]
  },
  {
   "cell_type": "markdown",
   "metadata": {},
   "source": [
    "Import the necessary packages. Some uncommon ones are RegscorePy, which is a custom open-source library used to calculate the AIC of tensorflow models, and itertools.product which is used to generate all combinations of elements in a list."
   ]
  },
  {
   "cell_type": "markdown",
   "metadata": {},
   "source": [
    "## 1) Load data in\n",
    "\n",
    "The raw data is loaded in from a csv file and processed into a training and testing dataset."
   ]
  },
  {
   "cell_type": "code",
   "execution_count": 2,
   "metadata": {},
   "outputs": [
    {
     "name": "stdout",
     "output_type": "stream",
     "text": [
      "       coral_present      latitude     longitude         depth       round_d  \\\n",
      "count   68355.000000  68355.000000  68355.000000  68355.000000  68355.000000   \n",
      "mean        0.584273     23.283085    -68.820676   1063.477800   1064.483798   \n",
      "std         0.492850     33.799299     95.889386    985.059453    985.321543   \n",
      "min         0.000000    -77.875000   -179.966080      0.000000      0.000000   \n",
      "25%         0.000000     16.875000   -124.591595    235.000000    225.000000   \n",
      "50%         1.000000     35.652870   -119.501450    855.000000    850.000000   \n",
      "75%         1.000000     40.811420    -26.375000   1735.000000   1750.000000   \n",
      "max         1.000000     89.625000    179.973800   5500.000000   5500.000000   \n",
      "\n",
      "        temperature      salinity        oxygen  \n",
      "count  68355.000000  68355.000000  68355.000000  \n",
      "mean       5.175744     34.384281     42.198043  \n",
      "std        4.551002      1.371827     29.077581  \n",
      "min       -2.248000      0.022000      0.434000  \n",
      "25%        2.457000     34.228000     12.890000  \n",
      "50%        3.878000     34.520000     41.558000  \n",
      "75%        7.371000     34.696000     65.169500  \n",
      "max       31.751000     41.310000    120.705000  \n"
     ]
    },
    {
     "data": {
      "text/plain": [
       "304228    0\n",
       "213311    0\n",
       "172619    1\n",
       "141430    1\n",
       "133490    1\n",
       "         ..\n",
       "267861    0\n",
       "209754    0\n",
       "192209    1\n",
       "36135     1\n",
       "278318    0\n",
       "Name: coral_present, Length: 13671, dtype: int64"
      ]
     },
     "execution_count": 2,
     "metadata": {},
     "output_type": "execute_result"
    }
   ],
   "source": [
    "cwd = pathlib.Path(os.getcwd())\n",
    "path = str(cwd.parent) + '/coral-prediction/processed_data/combined_data_truncated.csv'\n",
    "\n",
    "raw = pd.read_csv(path)\n",
    "\n",
    "\n",
    "raw = raw.sample(frac=0.2, random_state=0)\n",
    "\n",
    "print(raw.describe())\n",
    "\n",
    "raw.pop('species')\n",
    "raw.pop('round_d')\n",
    "\n",
    "train = raw.sample(frac=0.8, random_state=0)\n",
    "test = raw.drop(train.index)\n",
    "\n",
    "train_features = train.copy()\n",
    "test_features = test.copy()\n",
    "\n",
    "train_labels = train_features['coral_present']\n",
    "test_labels = test_features['coral_present']\n",
    "train_features.pop('coral_present')\n",
    "test_features.pop('coral_present')"
   ]
  },
  {
   "cell_type": "markdown",
   "metadata": {},
   "source": [
    "## 2) Feature evaluation - correlation coefficients\n",
    "\n",
    "The correlation coefficients and p-values for each feature are reported. Since all p-values are <0.05, each feature selected is relevant to the model and will be kept.\n",
    "\n",
    "It is interesting that the longitude is strongly negatively correlated to the presence of coral. This implies that at more eastern locations (say 90E - 180E) it is less likely that coral will grow. This may be a residual of other conditions, such as the much deeper waters in the eastern Pacific Ocean - since the depth is also negatively correlated."
   ]
  },
  {
   "cell_type": "code",
   "execution_count": 3,
   "metadata": {},
   "outputs": [
    {
     "name": "stdout",
     "output_type": "stream",
     "text": [
      "coral_present    1.000000\n",
      "latitude         0.483094\n",
      "longitude       -0.623733\n",
      "depth           -0.381216\n",
      "temperature      0.244996\n",
      "salinity        -0.075697\n",
      "oxygen          -0.484223\n",
      "Name: coral_present, dtype: float64\n",
      "(0.48309400646187506, 0.0)\n",
      "(-0.6237334337918604, 0.0)\n",
      "(-0.38121618825430753, 0.0)\n",
      "(0.2449964411644198, 0.0)\n",
      "(-0.07569703383008823, 2.618925049563251e-70)\n",
      "(-0.4842228643655442, 0.0)\n"
     ]
    }
   ],
   "source": [
    "print(train.corr()['coral_present'])\n",
    "print(pearsonr(train_features['latitude'], train_labels))\n",
    "print(pearsonr(train_features['longitude'], train_labels))\n",
    "print(pearsonr(train_features['depth'], train_labels))\n",
    "print(pearsonr(train_features['temperature'], train_labels))\n",
    "print(pearsonr(train_features['salinity'], train_labels))\n",
    "print(pearsonr(train_features['oxygen'], train_labels))"
   ]
  },
  {
   "cell_type": "markdown",
   "metadata": {},
   "source": [
    "## 3) Function definitions\n",
    "\n",
    "The following functions were used during the training and evaluation of the model.\n",
    "\n",
    "fit_and_evaluate() accepts a model architecture and fits the training data to it, and the reports the accuracy metrics based on the test dataset.\n",
    "\n",
    "The hyperparameters selected for the training are: 20% validation split and 50 epochs training duration. These were selected by testing different configurations and choosing the hyperparameters that resulted in the most accurate model.\n",
    "\n",
    "plot_loss() accepts the model training residuals and plots them over the training duration (number of epochs) the loss and validation loss are both shown.\n",
    "\n",
    "add_layer() is a part of the parametric model study, which can add hidden layers to a tensorflow model by passing parameters and hyperparameters. This functionality will hopefully be bundled into a package at some point so that users can pip install the ability to do a parametric study.\n",
    "\n",
    "build_and_compile_model() accepts the model architecture from the user and creates the tensorflow model. It then fits the model and performs the accuracy evaluations."
   ]
  },
  {
   "cell_type": "code",
   "execution_count": 4,
   "metadata": {},
   "outputs": [],
   "source": [
    "def fit_and_evaluate(architecture):\n",
    "    dnn_model = build_and_compile_model(architecture)\n",
    "\n",
    "    history = dnn_model.fit(train_features, train_labels, validation_split=0.2, verbose=0, epochs=50)\n",
    "    plot_loss(history)\n",
    "\n",
    "    test_results = dnn_model.evaluate(test_features, test_labels, verbose=0)\n",
    "    test_predictions = dnn_model.predict(test_features).flatten()\n",
    "    r2= r2_score(np.asarray(test_labels).flatten(), test_predictions)\n",
    "    mae = mean_absolute_error(np.asarray(test_labels).flatten(), test_predictions)\n",
    "    aic = RegscorePy.aic.aic(np.asarray(test_labels, dtype=float).flatten(), np.asarray(test_predictions).astype(float), 4+2)\n",
    "    rmse = sqrt(mean_squared_error(np.asarray(test_labels).flatten(), test_predictions))\n",
    "    return dnn_model, aic, r2, mae, rmse, test_predictions"
   ]
  },
  {
   "cell_type": "code",
   "execution_count": 5,
   "metadata": {},
   "outputs": [],
   "source": [
    "def plot_loss(history):\n",
    "    plt.plot(history.history['loss'], label='loss')\n",
    "    plt.plot(history.history['val_loss'], label='val_loss')\n",
    "    # plt.ylim([0, 30])\n",
    "    plt.xlabel('Epoch')\n",
    "    plt.ylabel('Error')\n",
    "    plt.legend()\n",
    "    plt.grid(True)\n",
    "    plt.show()\n",
    "    # pass"
   ]
  },
  {
   "cell_type": "code",
   "execution_count": 6,
   "metadata": {},
   "outputs": [],
   "source": [
    "def add_layer(dets, hyper, prev):\n",
    "    default = ['relu']\n",
    "    try:\n",
    "        layer = layers.Dense(dets, activation=hyper[0])(prev)\n",
    "    except IndexError:\n",
    "        layer = layers.Dense(dets, activation=default[0])(prev)\n",
    "    return layer"
   ]
  },
  {
   "cell_type": "code",
   "execution_count": 7,
   "metadata": {},
   "outputs": [],
   "source": [
    "def build_and_compile_model(arch):\n",
    "    # Adjust the number of hidden layers and neurons per layer that results in best fit NN\n",
    "    hidden_layers = []\n",
    "    inputs = keras.Input(shape=(6,))\n",
    "    norm_layer = layers.BatchNormalization()(inputs)\n",
    "    hidden_layers.append(inputs)\n",
    "    hidden_layers.append(norm_layer)\n",
    "    for i in range(num_hidden):\n",
    "        if arch[i] == 0:\n",
    "            pass\n",
    "        else:\n",
    "            layer = add_layer(arch[i], arch[num_hidden:], hidden_layers[-1])\n",
    "            hidden_layers.append(layer)\n",
    "            layer = layers.Dropout(rate=0.2)(hidden_layers[-1])\n",
    "            hidden_layers.append(layer)\n",
    "    outputs = layers.Dense(1)(hidden_layers[-1])\n",
    "    hidden_layers.append(outputs)\n",
    "    model = keras.Model(inputs=inputs, outputs=outputs)\n",
    "\n",
    "    model.compile(loss='mean_absolute_error',\n",
    "                  optimizer=tf.keras.optimizers.Adam(0.001))\n",
    "    return model"
   ]
  },
  {
   "cell_type": "markdown",
   "metadata": {},
   "source": [
    "## 4) Using the model trainer\n",
    "\n",
    "The following code sets up the necessary data to train the models. By commenting out the line:\n",
    "\n",
    "list(product(\\*[l1, l2, l3, activ])), the parametric search is deactivated, and only the architecture specified in the next line is fitted\n",
    "\n",
    "Additionally, some timing features are implemented. Passing a large parametric space can result in the program running for over 4 hours, training each model. Because of this, a progress meter is added so that the user can see how far along the program is."
   ]
  },
  {
   "cell_type": "code",
   "execution_count": 8,
   "metadata": {},
   "outputs": [
    {
     "name": "stdout",
     "output_type": "stream",
     "text": [
      "[[200, 64, 192, 'relu']]\n"
     ]
    }
   ],
   "source": [
    "models = []\n",
    "aic_scores = []\n",
    "r2_scores = []\n",
    "maes = []\n",
    "rmses = []\n",
    "l1 = np.linspace(32, 256, 5)\n",
    "l2 = np.linspace(0, 256, 5)\n",
    "l3 = np.linspace(0, 256, 5)\n",
    "activ = ['relu', 'tanh']\n",
    "# parametric_space = list(product(*[l1, l2, l3, activ]))\n",
    "parametric_space = [[200, 64, 192, 'relu']]\n",
    "print(parametric_space)\n",
    "num_hidden = len(list(i for i in parametric_space[0] if isinstance(i, (int or float))))\n",
    "num_hyper = len(parametric_space[0]) - num_hidden\n",
    "start_t = time.time()\n",
    "c = 1"
   ]
  },
  {
   "cell_type": "markdown",
   "metadata": {},
   "source": [
    "## 5) Running the model training\n",
    "\n",
    "This for loop passes each architecture specified in the parametric space into the build_and_compile_model() function and reports the accuracy metrics into their specific list. It also updates the progress each time a model is finished evaluation"
   ]
  },
  {
   "cell_type": "code",
   "execution_count": 9,
   "metadata": {},
   "outputs": [
    {
     "name": "stdout",
     "output_type": "stream",
     "text": [
      "Progress: 1/1\n"
     ]
    },
    {
     "data": {
      "image/png": "[encoded data removed]",
      "text/plain": [
       "<Figure size 432x288 with 1 Axes>"
      ]
     },
     "metadata": {
      "needs_background": "light"
     },
     "output_type": "display_data"
    },
    {
     "name": "stdout",
     "output_type": "stream",
     "text": [
      "Estimated Time Remaining: 00:00:00 seconds\n"
     ]
    }
   ],
   "source": [
    "for arch in parametric_space:\n",
    "    print('Progress: ' + str(c) + '/' + str(len(parametric_space)))\n",
    "    dnn_model, aic, r2, mae, rmse, test_predictions = fit_and_evaluate(arch)\n",
    "    models.append(dnn_model)\n",
    "    aic_scores.append(aic)\n",
    "    r2_scores.append(r2)\n",
    "    maes.append(mae)\n",
    "    rmses.append(rmse)\n",
    "\n",
    "    curr_time = time.time()\n",
    "    diff_t = curr_time - start_t\n",
    "    t_per_model = diff_t / c\n",
    "    num_mods_rem = len(parametric_space) - c\n",
    "    t_rem = t_per_model * num_mods_rem\n",
    "    print(\"Estimated Time Remaining: \" + time.strftime('%H:%M:%S', time.gmtime(t_rem)) + ' seconds')\n",
    "    c += 1"
   ]
  },
  {
   "cell_type": "markdown",
   "metadata": {},
   "source": [
    "## 6) Choosing the best model\n",
    "\n",
    "After the parametric seach is finished, the accuracy metrics are compiled into a csv file. The user must look through these results and pick the model which has the LOWEST AIC score and HIGHEST R-Squared. \n",
    "\n",
    "The final 2 lines save the 0-th model in the parametric space for later use. During the parametric seach, this should be disabled because the 0-th model is likely not the most accurate. When the parametric search is disabled (only a single architecture is being fitted) this can be re-enabled to save the model."
   ]
  },
  {
   "cell_type": "code",
   "execution_count": 10,
   "metadata": {},
   "outputs": [
    {
     "name": "stdout",
     "output_type": "stream",
     "text": [
      "[['200', '64', '192', '-42249.02537623041', '0.04866076749821012', '0.21317433109464726', '0.8131798652629634']]\n",
      "Model: \"model\"\n",
      "_________________________________________________________________\n",
      " Layer (type)                Output Shape              Param #   \n",
      "=================================================================\n",
      " input_1 (InputLayer)        [(None, 6)]               0         \n",
      "                                                                 \n",
      " batch_normalization (BatchN  (None, 6)                24        \n",
      " ormalization)                                                   \n",
      "                                                                 \n",
      " dense (Dense)               (None, 200)               1400      \n",
      "                                                                 \n",
      " dropout (Dropout)           (None, 200)               0         \n",
      "                                                                 \n",
      " dense_1 (Dense)             (None, 64)                12864     \n",
      "                                                                 \n",
      " dropout_1 (Dropout)         (None, 64)                0         \n",
      "                                                                 \n",
      " dense_2 (Dense)             (None, 192)               12480     \n",
      "                                                                 \n",
      " dropout_2 (Dropout)         (None, 192)               0         \n",
      "                                                                 \n",
      " dense_3 (Dense)             (None, 1)                 193       \n",
      "                                                                 \n",
      "=================================================================\n",
      "Total params: 26,961\n",
      "Trainable params: 26,949\n",
      "Non-trainable params: 12\n",
      "_________________________________________________________________\n",
      "None\n"
     ]
    }
   ],
   "source": [
    "parametric_space_t = np.asarray(parametric_space).transpose().tolist()\n",
    "output_data = [parametric_space_t[0], parametric_space_t[1], parametric_space_t[2], aic_scores, maes, rmses, r2_scores]\n",
    "output_data = np.asarray(output_data).transpose().tolist()\n",
    "print(output_data)\n",
    "oput = pd.DataFrame(output_data, columns=['L1', 'L2', 'L3', 'AIC', 'MAE', 'RMSE', 'R2'])\n",
    "# print(oput)\n",
    "# oput.to_csv('Parametric_space_study.csv', index=False)\n",
    "print(models[0].summary())\n",
    "out_path = str(cwd.parent) + '/models/trial0.3.h5'\n",
    "# models[0].save(out_path)"
   ]
  },
  {
   "cell_type": "code",
   "execution_count": null,
   "metadata": {},
   "outputs": [],
   "source": []
  }
 ],
 "metadata": {
  "kernelspec": {
   "display_name": "Python 3",
   "language": "python",
   "name": "python3"
  },
  "language_info": {
   "codemirror_mode": {
    "name": "ipython",
    "version": 3
   },
   "file_extension": ".py",
   "mimetype": "text/x-python",
   "name": "python",
   "nbconvert_exporter": "python",
   "pygments_lexer": "ipython3",
   "version": "3.6.5"
  }
 },
 "nbformat": 4,
 "nbformat_minor": 5
}
